{
 "cells": [
  {
   "cell_type": "code",
   "execution_count": 1,
   "metadata": {},
   "outputs": [],
   "source": [
    "import sys\n",
    "\n",
    "sys.path.append('/home/alta/Conversational/OET/al826/2022/conv_frameworks/parallel_exp')"
   ]
  },
  {
   "cell_type": "code",
   "execution_count": 2,
   "metadata": {},
   "outputs": [
    {
     "name": "stdout",
     "output_type": "stream",
     "text": [
      "Model found!\n"
     ]
    }
   ],
   "source": [
    "from src.eval.integrad_handler import IntegradHandler\n",
    "\n",
    "E = IntegradHandler('sep_focus_utt/full/0', hpc=True)\n",
    "#E.parallelise()"
   ]
  },
  {
   "cell_type": "code",
   "execution_count": 3,
   "metadata": {},
   "outputs": [
    {
     "name": "stderr",
     "output_type": "stream",
     "text": [
      "100%|██████████| 19/19 [00:00<00:00, 49.99it/s]\n"
     ]
    },
    {
     "name": "stdout",
     "output_type": "stream",
     "text": [
      "31\n",
      "multi_segment 0.975\n"
     ]
    },
    {
     "data": {
      "application/vnd.jupyter.widget-view+json": {
       "model_id": "f25bd13893024bb6b48cc05f1dd23b55",
       "version_major": 2,
       "version_minor": 0
      },
      "text/plain": [
       "  0%|          | 0/10 [00:00<?, ?it/s]"
      ]
     },
     "metadata": {},
     "output_type": "display_data"
    }
   ],
   "source": [
    "from types import SimpleNamespace\n",
    "\n",
    "eval_path = f\"swda/standard/test.json\"\n",
    "\n",
    "test_args = {'eval_path':eval_path,\n",
    "             'bsz':2,\n",
    "             'lim':None}\n",
    "\n",
    "test_args = SimpleNamespace(**test_args)\n",
    "\n",
    "words, scores = E.saliency(test_args, N=20, utt_num=31)\n"
   ]
  },
  {
   "cell_type": "code",
   "execution_count": 4,
   "metadata": {},
   "outputs": [
    {
     "name": "stdout",
     "output_type": "stream",
     "text": [
      "[0.49404535070061684, 0.08724021883972455, 0.036012822296470404, 0.03411695017712191, 0.03398733149515465, 0.033416295516872196, 0.024441918970296683, 0.024187074312067125, 0.018557941599283367, 0.014002194977365434, 0.012914050341350958, 0.009320357494289055, 0.00801871527505682, 0.00770352830295451, 0.0070607841244054725, 0.006976895791012794, 0.0064705889381002635, 0.006433082744479179, 0.00570575067831669, 0.004489189901505597, 0.003912346824108681, 0.0037871446893404936, 0.003644782536866842, 0.0035059622023254633, 0.00333337411575485, 0.00329361615513335, 0.0030340953962877393, 0.0028489071410149336, 0.0019542684058251325, 0.0016869376445356465, 0.0016640610142530932, 0.0015029499081720132, 0.001434765602425614, 0.0012364460271783173, 0.0010992899537995982, 0.0010083050146931782, 0.000900743461897946, 0.0008787907568148512, 0.0007391910839942284, 0.00030747681375942193, 0.0003031048818229465, 0.00023942163807078032, 0.0002301775002706563, 0.0002010194716604019, 0.00013298481985657418, 0.0001286103679376538, 0.00010407611625851132, 7.603100107189675e-05, 7.292803211100818e-05, 6.167389869915496e-05, 4.830793113796972e-05, 2.8965526610136294e-05, 2.8918971850089292e-05, 2.6619651691817126e-05, 2.6446807896984836e-05, 2.2602787495884513e-05, 1.7332680954496027e-05, 1.420182395506231e-05, 1.2175053598184604e-05, 8.892666301107965e-06, 8.453596308299893e-06, 6.79304639561451e-06, 6.179492771707373e-06, 3.372278513325e-06, 3.2687217554894232e-06, 2.9144648863166367e-06, 1.9418602619225567e-06, 1.7422230107477787e-06, 1.5557636217078397e-06, 1.4085108972494709e-06, 1.2722001976328556e-06, 9.90477136753043e-07, 6.347192993416684e-09, -3.9963533993159217e-07, -1.35463281480952e-06, -1.3659483339978351e-06, -1.5506266493048315e-06, -2.2402281558697723e-06, -2.84326475252783e-06, -2.9503141831810353e-06, -3.3945462121209857e-06, -3.5321047517911097e-06, -3.839293810870004e-06, -4.930527097712911e-06, -5.061999488020774e-06, -5.930350084781821e-06, -9.027888921764315e-06, -1.2503361631388543e-05, -1.2559206879814155e-05, -1.824667322125606e-05, -1.8697604900808074e-05, -1.9045425347030687e-05, -6.157624193292577e-05, -7.55692194616131e-05, -8.39104650367517e-05, -8.864548999554245e-05, -9.418701847607736e-05, -0.00016010429590096464, -0.00016636960208415985, -0.00023988468001334695, -0.0002462111198440198, -0.0002828731212503044, -0.0003452104938332923, -0.00036093834569328465, -0.000512337741383817, -0.0005775679564976599, -0.0006167670362628996, -0.0007579572338727303, -0.0012445916981960181, -0.0013461481048580026, -0.0024198514329327736, -0.0025651335918155382, -0.0049353551876265556, -0.008373731924621097, -0.011188918928382918, -0.011759611894376576, -0.01509415186365004, -0.019450479769147933, -0.021573309844825417, -0.02213189727626741, -0.023472811211831868, -0.024061326490482315, -0.032003611195250414, -0.03554225072002737, -0.04494044063324054, -0.055722821853123605, -0.09462894410535228, -0.18666708777891472]\n"
     ]
    },
    {
     "data": {
      "image/png": "[encoded data removed]",
      "text/plain": [
       "<Figure size 720x72 with 1 Axes>"
      ]
     },
     "metadata": {
      "needs_background": "light"
     },
     "output_type": "display_data"
    }
   ],
   "source": [
    "import matplotlib.pyplot as plt\n",
    "import numpy as np\n",
    "\n",
    "words = [i.replace('<s>', '[CLS]') for i in words]\n",
    "words = [i.replace('</s>', '[SEP]') for i in words]\n",
    "s = [0] + [k for k, word in enumerate(words) if word == '[SEP]']\n",
    "turn_scores = [sum(scores[s[i]:s[i+1]]) for i in range(len(s)-1)]\n",
    "print(sorted(turn_scores)[::-1])\n",
    "\n",
    "#temp\n",
    "plt.rcParams[\"figure.figsize\"] = 10,1\n",
    "\n",
    "dist = [abs(i) for i in turn_scores]\n",
    "dist = np.array(dist)/sum(dist)\n",
    "plt.imshow(dist[np.newaxis,:], cmap=\"plasma\", aspect=\"auto\", vmin=0, vmax=1)\n",
    "plt.show()\n"
   ]
  },
  {
   "cell_type": "code",
   "execution_count": null,
   "metadata": {},
   "outputs": [],
   "source": []
  }
 ],
 "metadata": {
  "kernelspec": {
   "display_name": "Python 3",
   "language": "python",
   "name": "python3"
  },
  "language_info": {
   "codemirror_mode": {
    "name": "ipython",
    "version": 3
   },
   "file_extension": ".py",
   "mimetype": "text/x-python",
   "name": "python",
   "nbconvert_exporter": "python",
   "pygments_lexer": "ipython3",
   "version": "3.8.5"
  }
 },
 "nbformat": 4,
 "nbformat_minor": 4
}
