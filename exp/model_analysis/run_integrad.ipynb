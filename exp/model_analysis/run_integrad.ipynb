{
 "cells": [
  {
   "cell_type": "code",
   "execution_count": 1,
   "metadata": {},
   "outputs": [],
   "source": [
    "import sys\n",
    "\n",
    "sys.path.append('/home/alta/Conversational/OET/al826/2022/conv_frameworks/parallel_exp')"
   ]
  },
  {
   "cell_type": "code",
   "execution_count": 2,
   "metadata": {},
   "outputs": [
    {
     "name": "stdout",
     "output_type": "stream",
     "text": [
      "Model found!\n"
     ]
    }
   ],
   "source": [
    "from src.eval.integrad_handler import IntegradHandler\n",
    "\n",
    "E = IntegradHandler('sep_focus_utt/full', hpc=True)\n",
    "#E.parallelise()"
   ]
  },
  {
   "cell_type": "code",
   "execution_count": 6,
   "metadata": {},
   "outputs": [
    {
     "name": "stderr",
     "output_type": "stream",
     "text": [
      "100%|██████████| 256/256 [8:52:24<00:00, 124.78s/it]  \n"
     ]
    }
   ],
   "source": [
    "from types import SimpleNamespace\n",
    "\n",
    "eval_path = f\"swda/standard/dev.json\"\n",
    "\n",
    "test_args = {'eval_path':eval_path,\n",
    "             'bsz':1,\n",
    "             'lim':None}\n",
    "\n",
    "test_args = SimpleNamespace(**test_args)\n",
    "\n",
    "conv_num = 12\n",
    "output = E.conv_integrad(test_args, conv_num=conv_num, N=100)\n",
    "E.dir.save_dict(f'integrad/{conv_num}', output)\n"
   ]
  },
  {
   "cell_type": "code",
   "execution_count": 4,
   "metadata": {},
   "outputs": [
    {
     "name": "stdout",
     "output_type": "stream",
     "text": [
      "[7.040592706239434, 2.8375988565669026, 8.03145440756653, 5.488012782047294, 4.995244306525801]\n"
     ]
    }
   ],
   "source": [
    "def get_avg_dist(utt, utt_num):\n",
    "    def normalise(scores):\n",
    "        scores = [abs(i) for i in scores]\n",
    "        scores = [i/sum(scores) for i in scores]\n",
    "        return scores\n",
    "\n",
    "    utt_scores = utt['utt_scores']\n",
    "    \n",
    "    #filter out scores < 1e-3\n",
    "    utt_scores = [a if abs(a) > 1e-3 else 0 for a in utt_scores]\n",
    "    \n",
    "    #normalise\n",
    "    utt_scores = normalise(utt_scores)\n",
    "    \n",
    "    avg_dist = sum([a*abs(utt_num-k) for k, a in enumerate(utt_scores)])\n",
    "    return avg_dist\n",
    "\n",
    "x = [get_avg_dist(output[k], k) for k in range(5)]\n",
    "print(x)"
   ]
  },
  {
   "cell_type": "code",
   "execution_count": 5,
   "metadata": {},
   "outputs": [
    {
     "ename": "TypeError",
     "evalue": "string indices must be integers",
     "output_type": "error",
     "traceback": [
      "\u001b[0;31m---------------------------------------------------------------------------\u001b[0m",
      "\u001b[0;31mTypeError\u001b[0m                                 Traceback (most recent call last)",
      "\u001b[0;32m<ipython-input-5-5fc2af5611e6>\u001b[0m in \u001b[0;36m<module>\u001b[0;34m\u001b[0m\n\u001b[1;32m      1\u001b[0m \u001b[0mx\u001b[0m \u001b[0;34m=\u001b[0m \u001b[0;34m[\u001b[0m\u001b[0mi\u001b[0m \u001b[0;32mfor\u001b[0m \u001b[0mj\u001b[0m \u001b[0;32min\u001b[0m \u001b[0moutput\u001b[0m \u001b[0;32mfor\u001b[0m \u001b[0mi\u001b[0m \u001b[0;32min\u001b[0m \u001b[0mj\u001b[0m\u001b[0;34m]\u001b[0m\u001b[0;34m\u001b[0m\u001b[0;34m\u001b[0m\u001b[0m\n\u001b[0;32m----> 2\u001b[0;31m \u001b[0mprint\u001b[0m\u001b[0;34m(\u001b[0m\u001b[0;34m[\u001b[0m\u001b[0mi\u001b[0m\u001b[0;34m[\u001b[0m\u001b[0;34m'true_class'\u001b[0m\u001b[0;34m]\u001b[0m \u001b[0;32mfor\u001b[0m \u001b[0mi\u001b[0m \u001b[0;32min\u001b[0m \u001b[0mx\u001b[0m\u001b[0;34m]\u001b[0m\u001b[0;34m)\u001b[0m\u001b[0;34m\u001b[0m\u001b[0;34m\u001b[0m\u001b[0m\n\u001b[0m",
      "\u001b[0;32m<ipython-input-5-5fc2af5611e6>\u001b[0m in \u001b[0;36m<listcomp>\u001b[0;34m(.0)\u001b[0m\n\u001b[1;32m      1\u001b[0m \u001b[0mx\u001b[0m \u001b[0;34m=\u001b[0m \u001b[0;34m[\u001b[0m\u001b[0mi\u001b[0m \u001b[0;32mfor\u001b[0m \u001b[0mj\u001b[0m \u001b[0;32min\u001b[0m \u001b[0moutput\u001b[0m \u001b[0;32mfor\u001b[0m \u001b[0mi\u001b[0m \u001b[0;32min\u001b[0m \u001b[0mj\u001b[0m\u001b[0;34m]\u001b[0m\u001b[0;34m\u001b[0m\u001b[0;34m\u001b[0m\u001b[0m\n\u001b[0;32m----> 2\u001b[0;31m \u001b[0mprint\u001b[0m\u001b[0;34m(\u001b[0m\u001b[0;34m[\u001b[0m\u001b[0mi\u001b[0m\u001b[0;34m[\u001b[0m\u001b[0;34m'true_class'\u001b[0m\u001b[0;34m]\u001b[0m \u001b[0;32mfor\u001b[0m \u001b[0mi\u001b[0m \u001b[0;32min\u001b[0m \u001b[0mx\u001b[0m\u001b[0;34m]\u001b[0m\u001b[0;34m)\u001b[0m\u001b[0;34m\u001b[0m\u001b[0;34m\u001b[0m\u001b[0m\n\u001b[0m",
      "\u001b[0;31mTypeError\u001b[0m: string indices must be integers"
     ]
    }
   ],
   "source": [
    "x = [i for j in output for i in j]\n",
    "print([i['true_class'] for i in x])"
   ]
  },
  {
   "cell_type": "markdown",
   "metadata": {},
   "source": [
    "['statement', 'statement', 'opinion', 'backchannel', 'multi_segment', 'backchannel', 'opinion', 'backchannel', 'multi_segment', 'backchannel', 'multi_segment', 'backchannel', 'opinion', 'backchannel', 'opinion', 'backchannel', 'multi_segment', 'backchannel', 'multi_segment', 'backchannel', 'backchannel', 'opinion', 'opinion', 'backchannel', 'multi_segment', 'opinion', 'backchannel', 'opinion', 'backchannel', 'opinion', 'backchannel', 'multi_segment', 'backchannel', 'multi_segment', 'backchannel', 'multi_segment', 'agreement', 'opinion', 'abandoned', 'opinion', 'agreement', 'opinion', 'backchannel', 'opinion', 'backchannel', 'hedge', 'backchannel', 'opinion', 'opinion', 'opinion', 'backchannel', 'multi_segment', 'backchannel', 'multi_segment', 'non verbal', 'non verbal', 'appreciation', 'opinion', 'backchannel', 'multi_segment', 'backchannel', 'abandoned', 'opinion', 'backchannel', 'multi_segment', 'backchannel', 'statement', 'abandoned', 'opinion', 'backchannel', 'multi_segment', 'abandoned', 'multi_segment', 'statement', 'backchannel', 'multi_segment', 'opinion', 'backchannel', 'multi_segment', 'agreement', 'opinion', 'opinion', 'backchannel', 'abandoned', 'statement', 'backchannel', 'statement', 'backchannel', 'statement', 'statement', 'statement', 'backchannel', 'multi_segment', 'statement', 'backchannel', 'multi_segment', 'backchannel', 'abandoned', 'statement', 'statement', 'backchannel', 'multi_segment', 'backchannel', 'multi_segment', 'backchannel', 'backchannel', 'statement', 'backchannel', 'abandoned', 'multi_segment', 'backchannel', 'multi_segment', 'statement', 'statement', 'opinion', 'backchannel', 'opinion', 'backchannel', 'multi_segment', 'backchannel', 'multi_segment', 'backchannel', 'statement', 'statement', 'backchannel', 'statement', 'backchannel', 'multi_segment']"
   ]
  },
  {
   "cell_type": "code",
   "execution_count": null,
   "metadata": {},
   "outputs": [],
   "source": [
    "from types import SimpleNamespace\n",
    "\n",
    "eval_path = f\"swda/standard/test.json\"\n",
    "\n",
    "test_args = {'eval_path':eval_path,\n",
    "             'bsz':2,\n",
    "             'lim':None}\n",
    "\n",
    "test_args = SimpleNamespace(**test_args)\n",
    "\n",
    "words, scores = E.saliency(test_args, N=20, utt_num=31)\n"
   ]
  },
  {
   "cell_type": "code",
   "execution_count": null,
   "metadata": {},
   "outputs": [],
   "source": [
    "import matplotlib.pyplot as plt\n",
    "import numpy as np\n",
    "\n",
    "words = [i.replace('<s>', '[CLS]') for i in words]\n",
    "words = [i.replace('</s>', '[SEP]') for i in words]\n",
    "s = [0] + [k for k, word in enumerate(words) if word == '[SEP]']\n",
    "turn_scores = [sum(scores[s[i]:s[i+1]]) for i in range(len(s)-1)]\n",
    "\n",
    "#temp\n",
    "plt.rcParams[\"figure.figsize\"] = 10,1\n",
    "\n",
    "dist = [abs(i) for i in turn_scores]\n",
    "dist = np.array(dist)/sum(dist)\n",
    "plt.imshow(dist[np.newaxis,:], cmap=\"plasma\", aspect=\"auto\", vmin=0, vmax=1)\n",
    "plt.show()\n"
   ]
  },
  {
   "cell_type": "code",
   "execution_count": null,
   "metadata": {},
   "outputs": [],
   "source": []
  }
 ],
 "metadata": {
  "kernelspec": {
   "display_name": "Python 3",
   "language": "python",
   "name": "python3"
  },
  "language_info": {
   "codemirror_mode": {
    "name": "ipython",
    "version": 3
   },
   "file_extension": ".py",
   "mimetype": "text/x-python",
   "name": "python",
   "nbconvert_exporter": "python",
   "pygments_lexer": "ipython3",
   "version": "3.8.5"
  }
 },
 "nbformat": 4,
 "nbformat_minor": 4
}
