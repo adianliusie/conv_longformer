{
 "cells": [
  {
   "cell_type": "code",
   "execution_count": 1,
   "metadata": {},
   "outputs": [],
   "source": [
    "import sys\n",
    "\n",
    "sys.path.append('/home/alta/Conversational/OET/al826/2022/DA_classification/1.1-parallel_mask')"
   ]
  },
  {
   "cell_type": "code",
   "execution_count": 18,
   "metadata": {},
   "outputs": [
    {
     "name": "stderr",
     "output_type": "stream",
     "text": [
      "100%|██████████| 20/20 [00:00<00:00, 78.11it/s]\n"
     ]
    }
   ],
   "source": [
    "from src.config import config\n",
    "from src.helpers import ConvHandler\n",
    "from src.models import SystemHandler\n",
    "\n",
    "\n",
    "C = ConvHandler(transformer='bert', \n",
    "                filters=None)\n",
    "\n",
    "batcher = SystemHandler.batcher(\n",
    "                system='window',\n",
    "                formatting='utt_sep',\n",
    "                max_len=None, \n",
    "                batcher_args=[1, 1], \n",
    "                C=C)\n",
    "\n",
    "train = C.prepare_data(path='swda/standard/train.json', lim=20)\n",
    "train_b = batcher(data=train, bsz=1, shuffle=False)"
   ]
  },
  {
   "cell_type": "code",
   "execution_count": 19,
   "metadata": {},
   "outputs": [
    {
     "name": "stdout",
     "output_type": "stream",
     "text": [
      "4373\n"
     ]
    }
   ],
   "source": [
    "import time\n",
    "import torch\n",
    "\n",
    "print(sum(1 for _ in train_b))\n",
    "\n",
    "#lens = []\n",
    "#for k, b in enumerate(train_b):\n",
    "    #print(b.labels)\n",
    "    #print(C.tokenizer.decode(b.ids[0]))\n",
    "    #print([b.ids[k, j] for k, j in enumerate(b.utt_pos)])\n",
    "    #time.sleep(2)"
   ]
  },
  {
   "cell_type": "code",
   "execution_count": null,
   "metadata": {},
   "outputs": [],
   "source": [
    "source = torch.tensor([[1,2,3], [4,5,6], [7,8,9], [10,11,12]])\n",
    "index = torch.tensor([[0],[1],[2],[1]])\n",
    "\n",
    "print(source)\n",
    "print(index)\n",
    "source.gather(dim=1, index=index)"
   ]
  },
  {
   "cell_type": "code",
   "execution_count": null,
   "metadata": {},
   "outputs": [],
   "source": [
    "import torch\n",
    "\n",
    "a = torch.randint(0,20,(3,5,2))\n",
    "b = torch.LongTensor([2,0,0])\n",
    "\n",
    "print('\\n input tesnors \\n')\n",
    "print(a)\n",
    "print(b)\n",
    "\n",
    "print('\\n expected answers \\n')\n",
    "print(a[0,b[0]])\n",
    "print(a[1,b[1]])\n",
    "print(a[2,b[2]])\n",
    "\n",
    "print('\\n b looking \\n')\n",
    "b = b.unsqueeze(-1)\n",
    "b = b.repeat(1,2)\n",
    "b = b.unsqueeze(1)\n",
    "print(b)\n",
    "print(b.shape)\n",
    "\n",
    "print('\\n gather output \\n')\n",
    "print(a.gather(1, b))"
   ]
  },
  {
   "cell_type": "code",
   "execution_count": null,
   "metadata": {},
   "outputs": [],
   "source": [
    "import torch\n",
    "\n",
    "a = torch.randint(0,20,(6,2))\n",
    "b = torch.LongTensor([1,2,2])\n",
    "\n",
    "print('\\n input tesnors \\n')\n",
    "print(a)\n",
    "print(b)\n",
    "\n",
    "print('\\n expected answers \\n')\n",
    "print(a[b[0]])\n",
    "print(a[b[1]])\n",
    "print(a[b[2]])\n",
    "\n",
    "print('\\n b looking \\n')\n",
    "b = b.unsqueeze(-1)\n",
    "b = b.repeat(1, 2)\n",
    "\n",
    "print('\\n gather output \\n')\n",
    "print(a.gather(0, b))"
   ]
  },
  {
   "cell_type": "code",
   "execution_count": null,
   "metadata": {},
   "outputs": [],
   "source": []
  }
 ],
 "metadata": {
  "kernelspec": {
   "display_name": "Python 3",
   "language": "python",
   "name": "python3"
  },
  "language_info": {
   "codemirror_mode": {
    "name": "ipython",
    "version": 3
   },
   "file_extension": ".py",
   "mimetype": "text/x-python",
   "name": "python",
   "nbconvert_exporter": "python",
   "pygments_lexer": "ipython3",
   "version": "3.8.5"
  }
 },
 "nbformat": 4,
 "nbformat_minor": 4
}
