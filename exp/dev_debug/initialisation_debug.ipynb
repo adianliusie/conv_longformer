{
 "cells": [
  {
   "cell_type": "code",
   "execution_count": 6,
   "metadata": {},
   "outputs": [
    {
     "name": "stdout",
     "output_type": "stream",
     "text": [
      "Parameter containing:\n",
      "tensor([[-3.1840e-04, -8.4932e-04,  8.6901e-04,  ..., -6.8061e-05,\n",
      "         -9.3130e-04, -7.5076e-05],\n",
      "        [-1.7978e-04, -5.5714e-04, -6.3739e-04,  ...,  8.8549e-04,\n",
      "         -1.7724e-04,  1.2339e-04]], requires_grad=True)\n"
     ]
    }
   ],
   "source": [
    "import torch\n",
    "import torch.nn as nn\n",
    "\n",
    "a = nn.Embedding(2, 1000)\n",
    "a.weight.data.uniform_(-0.001, 0.001)\n",
    "print(a.weight)"
   ]
  },
  {
   "cell_type": "code",
   "execution_count": null,
   "metadata": {},
   "outputs": [],
   "source": []
  }
 ],
 "metadata": {
  "kernelspec": {
   "display_name": "Python 3",
   "language": "python",
   "name": "python3"
  },
  "language_info": {
   "codemirror_mode": {
    "name": "ipython",
    "version": 3
   },
   "file_extension": ".py",
   "mimetype": "text/x-python",
   "name": "python",
   "nbconvert_exporter": "python",
   "pygments_lexer": "ipython3",
   "version": "3.8.5"
  }
 },
 "nbformat": 4,
 "nbformat_minor": 4
}
