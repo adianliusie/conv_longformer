{
 "cells": [
  {
   "cell_type": "code",
   "execution_count": 1,
   "metadata": {},
   "outputs": [],
   "source": [
    "import sys\n",
    "\n",
    "sys.path.append('/home/alta/Conversational/OET/al826/2022/conv_frameworks/parallel_exp')"
   ]
  },
  {
   "cell_type": "code",
   "execution_count": 2,
   "metadata": {},
   "outputs": [
    {
     "name": "stderr",
     "output_type": "stream",
     "text": [
      "100%|██████████| 1115/1115 [00:16<00:00, 69.37it/s]\n"
     ]
    }
   ],
   "source": [
    "from src.config import config\n",
    "from src.helpers import ConvHandler\n",
    "from src.models import SystemHandler\n",
    "\n",
    "\n",
    "C = ConvHandler(transformer='bert', \n",
    "                filters=None)\n",
    "\n",
    "batcher = SystemHandler.batcher(\n",
    "                system='whole',\n",
    "                formatting=None,\n",
    "                max_len=None, \n",
    "                ctx_window=[500,500], \n",
    "                C=C)\n",
    "\n",
    "train = C.prepare_data(path='swda/standard/train.json')\n",
    "train_b = batcher(data=train, bsz=1, shuffle=True)"
   ]
  },
  {
   "cell_type": "code",
   "execution_count": 4,
   "metadata": {},
   "outputs": [],
   "source": [
    "import time\n",
    "\n",
    "lens = []\n",
    "for k, b in enumerate(train_b):\n",
    "    lens.append(b.ids.shape[1])\n"
   ]
  },
  {
   "cell_type": "code",
   "execution_count": 6,
   "metadata": {},
   "outputs": [
    {
     "data": {
      "text/plain": [
       "<AxesSubplot:ylabel='Count'>"
      ]
     },
     "execution_count": 6,
     "metadata": {},
     "output_type": "execute_result"
    },
    {
     "data": {
      "image/png": "[encoded data removed]",
      "text/plain": [
       "<Figure size 432x288 with 1 Axes>"
      ]
     },
     "metadata": {
      "needs_background": "light"
     },
     "output_type": "display_data"
    }
   ],
   "source": [
    "import seaborn as sns\n",
    "\n",
    "sns.histplot(lens)"
   ]
  },
  {
   "cell_type": "code",
   "execution_count": null,
   "metadata": {},
   "outputs": [],
   "source": []
  }
 ],
 "metadata": {
  "kernelspec": {
   "display_name": "Python 3",
   "language": "python",
   "name": "python3"
  },
  "language_info": {
   "codemirror_mode": {
    "name": "ipython",
    "version": 3
   },
   "file_extension": ".py",
   "mimetype": "text/x-python",
   "name": "python",
   "nbconvert_exporter": "python",
   "pygments_lexer": "ipython3",
   "version": "3.8.5"
  }
 },
 "nbformat": 4,
 "nbformat_minor": 4
}
